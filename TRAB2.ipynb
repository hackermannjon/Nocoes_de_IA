{
 "cells": [
  {
   "cell_type": "code",
   "execution_count": null,
   "id": "3bd0d5fa-0745-45f2-946e-6d68235ab44f",
   "metadata": {},
   "outputs": [],
   "source": [
    "#  Célula 1: Instancie o objeto de dados MNIST e import as lib\n",
    "\n",
    "Importe as bibliotecas necessárias\n",
    "import tensorflow as tf\n",
    "from d2l import tensorflow as d2l\n",
    "import pdb\n",
    "import matplotlib.pyplot as plt\n",
    "from sklearn.metrics import confusion_matrix\n",
    "\n",
    "# Defina a classe MNIST para carregar os dados\n",
    "class MNIST(d2l.DataModule):\n",
    "    def __init__(self, batch_size=64):\n",
    "        super().__init__()\n",
    "        self.save_hyperparameters()\n",
    "        self.train, self.val = tf.keras.datasets.mnist.load_data()\n",
    "        \n",
    "data = MNIST()\n"
   ]
  },
  {
   "cell_type": "code",
   "execution_count": null,
   "id": "2e586826-4d3a-4521-990e-ac24d8ccc6a7",
   "metadata": {},
   "outputs": [],
   "source": [
    "# Célula 2: Verifique o tamanho dos conjuntos de treinamento e validação, bem como as dimensões das imagens\n",
    "print(len(data.train[0]), len(data.val[0]))\n",
    "print(data.train[0].shape)\n",
    "\n",
    "# Pré-processamento dos dados\n",
    "@d2l.add_to_class(MNIST)\n",
    "def get_dataloader(self, train):\n",
    "    data = self.train if train else self.val\n",
    "    process = lambda X, y: (tf.expand_dims(X, axis=3) / 255, tf.cast(y, dtype='int32'))\n",
    "    resize_fn = lambda X, y: (tf.image.resize_with_pad(X, *self.resize), y)\n",
    "    shuffle_buf = len(data[0]) if train else 1\n",
    "    return tf.data.Dataset.from_tensor_slices(process(*data)).batch(self.batch_size).shuffle(shuffle_buf)\n"
   ]
  },
  {
   "cell_type": "code",
   "execution_count": null,
   "id": "620413c6-6374-44b3-8d4d-0187afb2a05c",
   "metadata": {},
   "outputs": [],
   "source": [
    "# Célula 3: Verifique as dimensões de um mini lote de dados\n",
    "X, y = next(iter(data.train_dataloader()))\n",
    "print(X.shape, X.dtype, y.shape, y.dtype)\n",
    "\n",
    "# Implemente o modelo MLP\n",
    "model = tf.keras.models.Sequential([\n",
    "    tf.keras.layers.Flatten(),\n",
    "    tf.keras.layers.Dense(128, activation='sigmoid'),\n",
    "    tf.keras.layers.Dense(10, activation='softmax')\n",
    "])\n"
   ]
  },
  {
   "cell_type": "code",
   "execution_count": null,
   "id": "f5961856-8a59-4e8a-89f0-7f33759bf03b",
   "metadata": {},
   "outputs": [],
   "source": [
    "# Célula 4: Compile o modelo\n",
    "model.compile(optimizer=tf.keras.optimizers.SGD(learning_rate=0.1), loss=tf.keras.losses.MeanSquaredError(), metrics=['accuracy'])\n",
    "\n",
    "# Treine o modelo\n",
    "model.fit(data.train_dataloader(), epochs=10)\n"
   ]
  },
  {
   "cell_type": "code",
   "execution_count": null,
   "id": "3cb8a73e-6c9a-4a7e-b20a-4ec3a4af30c4",
   "metadata": {},
   "outputs": [],
   "source": [
    "# Célula 5: Avalie a acurácia no conjunto de validação\n",
    "test_acc = d2l.evaluate_accuracy(model, data.val_dataloader())\n",
    "print(f\"Acurácia no conjunto de validação: {test_acc}\")\n"
   ]
  },
  {
   "cell_type": "code",
   "execution_count": null,
   "id": "527400e9-1a20-4d6d-86ed-1523ba816a13",
   "metadata": {},
   "outputs": [],
   "source": [
    "# Célula 6: Visualização dos exemplos mal-classificados\n",
    "misclassified_indices = []\n",
    "\n",
    "for i, (X, y) in enumerate(data.val_dataloader()):\n",
    "    predictions = model(X)\n",
    "    predicted_labels = tf.argmax(predictions, axis=1)\n",
    "    incorrect_indices = tf.where(predicted_labels != y).numpy()\n",
    "    incorrect_indices += i * data.batch_size\n",
    "    misclassified_indices.extend(incorrect_indices)\n",
    "\n",
    "# Exibir alguns exemplos mal-classificados\n",
    "num_examples_to_display = 5\n",
    "for i in range(num_examples_to_display):\n",
    "    index = misclassified_indices[i]\n",
    "    misclassified_image = data.val[0][index]\n",
    "    true_label = data.val[1][index]\n",
    "    predicted_label = predicted_labels[index].numpy()\n",
    "    \n",
    "    plt.imshow(misclassified_image, cmap='gray')\n",
    "    plt.title(f'True Label: {true_label}, Predicted Label: {predicted_label}')\n",
    "    plt.show()\n"
   ]
  },
  {
   "cell_type": "code",
   "execution_count": null,
   "id": "5740ee02-84f3-48b7-b729-aa3cafe3bfd7",
   "metadata": {},
   "outputs": [],
   "source": [
    "# Célula 7: Matriz de Confusão\n",
    "from sklearn.metrics import confusion_matrix\n",
    "\n",
    "true_labels = []\n",
    "predicted_labels = []\n",
    "\n",
    "for X, y in data.val_dataloader():\n",
    "    predictions = model(X)\n",
    "    predicted_labels.extend(tf.argmax(predictions, axis=1).numpy())\n",
    "    true_labels.extend(y.numpy())\n",
    "\n",
    "confusion = confusion_matrix(true_labels, predicted_labels)\n",
    "\n",
    "# Exibir a matriz de confusão\n",
    "print(\"Matriz de Confusão:\")\n",
    "print(confusion)"
   ]
  }
 ],
 "metadata": {
  "kernelspec": {
   "display_name": "Python 3 (ipykernel)",
   "language": "python",
   "name": "python3"
  },
  "language_info": {
   "codemirror_mode": {
    "name": "ipython",
    "version": 3
   },
   "file_extension": ".py",
   "mimetype": "text/x-python",
   "name": "python",
   "nbconvert_exporter": "python",
   "pygments_lexer": "ipython3",
   "version": "3.10.0"
  }
 },
 "nbformat": 4,
 "nbformat_minor": 5
}
