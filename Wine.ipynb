{
 "cells": [
  {
   "cell_type": "code",
   "execution_count": null,
   "id": "bbcf0362-e356-457d-a4e3-11436cd11587",
   "metadata": {},
   "outputs": [],
   "source": [
    "# Célula 1 - Importação de Bibliotecas e Leitura do Arquivo CSV\n",
    "import pandas as pd\n",
    "import tensorflow as tf\n",
    "import numpy as np\n",
    "from sklearn.model_selection import train_test_split\n",
    "from d2l import tensorflow as d2l\n",
    "\n",
    "# Lendo o arquivo CSV\n",
    "file_path = 'winequalityN.csv'\n",
    "data = pd.read_csv(file_path)\n",
    "\n",
    "# Visualizando as primeiras linhas dos dados\n",
    "data.head()\n"
   ]
  },
  {
   "cell_type": "code",
   "execution_count": null,
   "id": "cc79f9d8-539e-4ac2-a3e7-ae11a95055d7",
   "metadata": {},
   "outputs": [],
   "source": [
    "# Célula 2 - Pré-processamento dos Dados\n",
    "# Criando uma variável dummy para a coluna \"type\"\n",
    "data = pd.get_dummies(data, columns=['type'], drop_first=True)\n",
    "\n",
    "# Dividindo os dados em conjuntos de treinamento e validação (80% treinamento, 20% validação)\n",
    "train_data, val_data = train_test_split(data, test_size=0.2, random_state=42)\n",
    "\n",
    "# Verificando as dimensões dos conjuntos de treinamento e validação\n",
    "train_data.shape, val_data.shape\n"
   ]
  },
  {
   "cell_type": "code",
   "execution_count": null,
   "id": "06ddbf1d-a929-4019-a26c-33ff5f6c166f",
   "metadata": {},
   "outputs": [],
   "source": [
    "# Célula 3 - Preparação dos Dados para Treinamento\n",
    "class LinearRegression(d2l.Module):\n",
    "    \"\"\"O modelo de regressão linear implementado com APIs de alto nível.\"\"\"\n",
    "\n",
    "    def __init__(self, lr):\n",
    "        super().__init__()\n",
    "        self.save_hyperparameters()\n",
    "        initializer = tf.initializers.RandomNormal(stddev=0.01)\n",
    "        self.net = tf.keras.layers.Dense(1, kernel_initializer=initializer)\n",
    "\n",
    "class LinearRegressionData(d2l.DataModule):\n",
    "    \"\"\"Dados para regressão linear.\"\"\"\n",
    "\n",
    "    def __init__(self, nInputs, data, num_train=5197, num_val=1300, batch_size=32):\n",
    "        super().__init__()\n",
    "        self.save_hyperparameters()\n",
    "        self.X = data[:, 0:nInputs]\n",
    "        self.y = data[:, nInputs]\n",
    "\n",
    "@d2l.add_to_class(d2l.DataModule)\n",
    "def get_tensorloader(self, tensors, train, indices=slice(0, None)):\n",
    "    tensors = tuple(a[indices] for a in tensors)\n",
    "    shuffle_buffer = tensors[0].shape[0] if train else 1\n",
    "    return tf.data.Dataset.from_tensor_slices(tensors).shuffle(\n",
    "        buffer_size=shuffle_buffer).batch(self.batch_size)\n",
    "\n",
    "@d2l.add_to_class(LinearRegressionData)\n",
    "def get_dataloader(self, train):\n",
    "    i = slice(0, self.num_train) if train else slice(self.num_train, None)\n",
    "    return self.get_tensorloader((self.X, self.y), train, i)\n"
   ]
  },
  {
   "cell_type": "code",
   "execution_count": null,
   "id": "08706779-2eec-4287-b04d-e4daede6bce2",
   "metadata": {},
   "outputs": [],
   "source": [
    "# Célula 4 - Cálculo dos Pesos do Modelo\n",
    "Xb = tf.concat((train_data.iloc[:, 1:].values, tf.ones((train_data.shape[0], 1), dtype=tf.float64)), axis=1)\n",
    "y = train_data['quality'].values\n",
    "\n",
    "W = tf.linalg.matvec(tf.linalg.matmul(tf.linalg.inv(tf.matmul(tf.transpose(Xb), Xb)), tf.transpose(Xb)), y)\n"
   ]
  },
  {
   "cell_type": "code",
   "execution_count": null,
   "id": "2028c0f6-2bc5-44f9-8542-e7e1408e7c09",
   "metadata": {},
   "outputs": [],
   "source": [
    "# Célula 5 - Métodos para Treinamento\n",
    "@d2l.add_to_class(LinearRegression)\n",
    "def forward(self, X):\n",
    "    return self.net(X)\n",
    "\n",
    "@d2l.add_to_class(LinearRegression)\n",
    "def loss(self, y_hat, y):\n",
    "    fn = tf.keras.losses.MeanSquaredError()\n",
    "    return fn(y, y_hat)\n",
    "\n",
    "@d2l.add_to_class(LinearRegression)\n",
    "def configure_optimizers(self):\n",
    "    return tf.keras.optimizers.SGD(self.lr)\n"
   ]
  },
  {
   "cell_type": "code",
   "execution_count": null,
   "id": "6d082c5b-a1a1-4f93-bb31-3269779bd2ec",
   "metadata": {},
   "outputs": [],
   "source": [
    "# Célula 6 - Treinamento\n",
    "# Configuração do treinamento\n",
    "lr = 1e-5  # Taxa de aprendizado\n",
    "\n",
    "# Restante do código para o treinamento do modelo (não fornecido no texto original)\n"
   ]
  },
  {
   "cell_type": "code",
   "execution_count": null,
   "id": "194e7764-6896-48d9-ad82-db82a2dc6a86",
   "metadata": {},
   "outputs": [],
   "source": []
  },
  {
   "cell_type": "code",
   "execution_count": null,
   "id": "91cca03c-bf56-449e-8dfb-262d8ca4d285",
   "metadata": {},
   "outputs": [],
   "source": []
  },
  {
   "cell_type": "code",
   "execution_count": null,
   "id": "e51671b0-1f5d-4cad-9bc2-891de139d646",
   "metadata": {},
   "outputs": [],
   "source": []
  },
  {
   "cell_type": "code",
   "execution_count": null,
   "id": "6ff5f2f3-d049-4844-99bc-acbbc90fbfbb",
   "metadata": {},
   "outputs": [],
   "source": []
  },
  {
   "cell_type": "code",
   "execution_count": null,
   "id": "f626f541-5cd4-4e3d-b0d5-3df78e0b1cca",
   "metadata": {},
   "outputs": [],
   "source": []
  }
 ],
 "metadata": {
  "kernelspec": {
   "display_name": "Python 3 (ipykernel)",
   "language": "python",
   "name": "python3"
  },
  "language_info": {
   "codemirror_mode": {
    "name": "ipython",
    "version": 3
   },
   "file_extension": ".py",
   "mimetype": "text/x-python",
   "name": "python",
   "nbconvert_exporter": "python",
   "pygments_lexer": "ipython3",
   "version": "3.10.0"
  }
 },
 "nbformat": 4,
 "nbformat_minor": 5
}
